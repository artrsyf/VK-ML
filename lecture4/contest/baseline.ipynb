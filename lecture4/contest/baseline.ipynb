{
 "cells": [
  {
   "cell_type": "code",
   "execution_count": 2,
   "metadata": {},
   "outputs": [],
   "source": [
    "from scipy import sparse\n",
    "import pandas as pd\n",
    "from sklearn.cluster import KMeans\n",
    "from sklearn.decomposition import TruncatedSVD\n",
    "from sklearn.manifold import TSNE\n",
    "from sklearn.cluster import DBSCAN\n",
    "from umap import UMAP"
   ]
  },
  {
   "cell_type": "markdown",
   "metadata": {},
   "source": [
    "## 1 Загрузка датасета"
   ]
  },
  {
   "cell_type": "code",
   "execution_count": 3,
   "metadata": {},
   "outputs": [
    {
     "data": {
      "text/plain": [
       "<14590x77888 sparse matrix of type '<class 'numpy.float64'>'\n",
       "\twith 2026769 stored elements in Compressed Sparse Row format>"
      ]
     },
     "execution_count": 3,
     "metadata": {},
     "output_type": "execute_result"
    }
   ],
   "source": [
    "train = sparse.load_npz(\"train.npz\")\n",
    "train"
   ]
  },
  {
   "cell_type": "markdown",
   "metadata": {},
   "source": [
    "Видим, что матрица разреженная с большим количеством фичей"
   ]
  },
  {
   "cell_type": "markdown",
   "metadata": {},
   "source": [
    "## 2 Используем метод k-средних"
   ]
  },
  {
   "cell_type": "code",
   "execution_count": 4,
   "metadata": {},
   "outputs": [
    {
     "name": "stderr",
     "output_type": "stream",
     "text": [
      "C:\\dev\\miniconda\\envs\\ds\\Lib\\site-packages\\sklearn\\cluster\\_kmeans.py:870: FutureWarning: The default value of `n_init` will change from 10 to 'auto' in 1.4. Set the value of `n_init` explicitly to suppress the warning\n",
      "  warnings.warn(\n"
     ]
    }
   ],
   "source": [
    "train = sparse.load_npz(\"train.npz\")\n",
    "\n",
    "kmeans = KMeans(n_clusters=5, random_state=42)\n",
    "\n",
    "labels = kmeans.fit_predict(train)\n",
    "\n",
    "df = pd.DataFrame({'ID': range(len(labels)), 'TARGET': labels})\n",
    "\n",
    "df.to_csv('predictions.csv', index=False) # score -0.02310695083141269"
   ]
  },
  {
   "cell_type": "markdown",
   "metadata": {},
   "source": [
    "## 3 Используем DBSCAN для получения кластеров"
   ]
  },
  {
   "cell_type": "markdown",
   "metadata": {},
   "source": [
    "Используем TSNE для снижения размерности, но видим, что модель работает долго"
   ]
  },
  {
   "cell_type": "code",
   "execution_count": 3,
   "metadata": {},
   "outputs": [],
   "source": [
    "tsne = TSNE(n_components=2)\n",
    "\n",
    "train_tsne = tsne.fit_transform(train.toarray())\n",
    "\n",
    "dbscan = DBSCAN()\n",
    "\n",
    "labels = dbscan.fit_predict(train_tsne)\n",
    "\n",
    "df = pd.DataFrame({'ID': range(len(labels)), 'TARGET': labels})\n",
    "\n",
    "df.to_csv('predictions.csv', index=False) # score 0.004331793159908802"
   ]
  },
  {
   "cell_type": "markdown",
   "metadata": {},
   "source": [
    "Используем TruncatedSVD для снижения размерности, в итоге получаем более быструю модель с аналогичным результатом"
   ]
  },
  {
   "cell_type": "code",
   "execution_count": 6,
   "metadata": {},
   "outputs": [],
   "source": [
    "svd = TruncatedSVD(n_components=100)\n",
    "train_svd = svd.fit_transform(train)\n",
    "\n",
    "dbscan = DBSCAN()\n",
    "labels = dbscan.fit_predict(train_svd)\n",
    "\n",
    "df = pd.DataFrame({'ID': range(len(labels)), 'TARGET': labels})\n",
    "\n",
    "df.to_csv('predictions.csv', index=False) # score 0.004331793159908802"
   ]
  },
  {
   "cell_type": "markdown",
   "metadata": {},
   "source": [
    "Теперь попробуем использовать для снижения размерности UMAP"
   ]
  },
  {
   "cell_type": "code",
   "execution_count": 5,
   "metadata": {},
   "outputs": [],
   "source": [
    "u = UMAP(n_components=100)\n",
    "train_umap = u.fit_transform(train)\n",
    "\n",
    "dbscan = DBSCAN()\n",
    "labels = dbscan.fit_predict(train_umap)\n",
    "\n",
    "df = pd.DataFrame({'ID': range(len(labels)), 'TARGET': labels})\n",
    "\n",
    "df.to_csv('predictions.csv', index=False) # score 0.025511201922304817"
   ]
  },
  {
   "cell_type": "markdown",
   "metadata": {},
   "source": [
    "В итоге результат улучшился"
   ]
  }
 ],
 "metadata": {
  "kernelspec": {
   "display_name": "Python 3 (ipykernel)",
   "language": "python",
   "name": "python3"
  },
  "language_info": {
   "codemirror_mode": {
    "name": "ipython",
    "version": 3
   },
   "file_extension": ".py",
   "mimetype": "text/x-python",
   "name": "python",
   "nbconvert_exporter": "python",
   "pygments_lexer": "ipython3",
   "version": "3.11.5"
  }
 },
 "nbformat": 4,
 "nbformat_minor": 2
}
